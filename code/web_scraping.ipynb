{
 "cells": [
  {
   "cell_type": "code",
   "execution_count": null,
   "metadata": {},
   "outputs": [],
   "source": [
    "import os\n",
    "import re\n",
    "import requests\n",
    "\n",
    "import pandas as pd\n",
    "from bs4 import BeautifulSoup\n",
    "from tqdm import tqdm"
   ]
  },
  {
   "cell_type": "code",
   "execution_count": null,
   "metadata": {},
   "outputs": [],
   "source": [
    "#FILE_PATH = os.path.dirname(os.path.dirname(os.path.abspath(__file__))) #Usado em arquivo .py\n",
    "FILE_PATH = os.path.join(os.path.abspath('.')) # Usado em arquivo .ipynb (Contém o caminho deste arquivo)\n",
    "SESSION = requests.session()\n",
    "BASE_URL = 'https://harrypotter.fandom.com'"
   ]
  },
  {
   "cell_type": "code",
   "execution_count": null,
   "metadata": {},
   "outputs": [],
   "source": [
    "# Lista de personagens (codes) considerados para o network\n",
    "characters_urls = ['/wiki/Harry_Potter',\n",
    "                    '/wiki/Dudley_Dursley',\n",
    "                    '/wiki/Vernon_Dursley',\n",
    "                    '/wiki/Arthur_Weasley',\n",
    "                    '/wiki/Molly_Weasley',\n",
    "                    '/wiki/William_Weasley',\n",
    "                    '/wiki/Fleur_Delacour',\n",
    "                    '/wiki/Victoire_Weasley',\n",
    "                    '/wiki/Dominique_Weasley',\n",
    "                    '/wiki/Louis_Weasley',\n",
    "                    '/wiki/Charles_Weasley',\n",
    "                    '/wiki/Percy_Weasley',\n",
    "                    '/wiki/Audrey_Weasley',\n",
    "                    '/wiki/Molly_Weasley_II',\n",
    "                    '/wiki/Lucy_Weasley',\n",
    "                    '/wiki/Fred_Weasley',\n",
    "                    '/wiki/George_Weasley',\n",
    "                    '/wiki/Angelina_Johnson',\n",
    "                    '/wiki/Fred_Weasley_II',\n",
    "                    '/wiki/Roxanne_Weasley',\n",
    "                    '/wiki/Ronald_Weasley',\n",
    "                    '/wiki/Hermione_Granger',\n",
    "                  '/wiki/Rose_Granger-Weasley',\n",
    "                  '/wiki/Hugo_Granger-Weasley']"
   ]
  },
  {
   "cell_type": "code",
   "execution_count": null,
   "metadata": {},
   "outputs": [],
   "source": [
    "# Processo de iteração\n",
    "\n",
    "# Lista que representam os futuros datasets\n",
    "relationships = []\n",
    "characters_unique = []\n",
    "for character in tqdm(characters_urls, desc='CRAWLING CHARACTERS DATA'):\n",
    "    # União de strings da url básico com a termição da url de cada personagem\n",
    "    char_page = SESSION.get(BASE_URL+character)\n",
    "    bs = BeautifulSoup(char_page.content, 'html.parser')\n",
    "    \n",
    "    character = re.sub(r'(\\_|\\/wiki\\/)', ' ', character).strip() # Contém o nome do personagem\n",
    "    image_character = bs.find(class_='pi-image-thumbnail')['src'] # Contém a url da imagem que representa o personagem na página\n",
    "    characters_unique.append({'character': character, 'characters_unique_url': image_character}) # Preenchimento do primeiro dataset\n",
    "    \n",
    "    char_family_info = bs.find(attrs={\"data-source\": \"family\"}).find_all(class_='pi-data-value pi-font')\n",
    "    \n",
    "    # Processo de obtenção dos familiares de cada personagem\n",
    "    for idx, relative in enumerate(zip(char_family_info[0].find_all('li'))):\n",
    "        relative_data = {}\n",
    "        \n",
    "        relationship = re.findall('\\((.*?)\\)', relative[0].text) # O tipo de relacionamento do personagem com cada familiar foi escrita no site entre ()\n",
    "        if len(relationship) == 1:\n",
    "            relationship = relationship[0]\n",
    "        if len(relationship) == 2:\n",
    "            relationship = relationship[1]\n",
    "        \n",
    "        relative_data['character'] = character # Contém o nome do personagem\n",
    "        relative_data['relative'] = relative[0].text.split(' (')[0] # Contém o nome do familiar\n",
    "        relative_data['relationship'] = relationship # Contém o tipo de relacionamento de parentesco entre o personagem e o familiar\n",
    "        \n",
    "        relationships.append(relative_data) ## Preenchimento do primeiro dataset"
   ]
  },
  {
   "cell_type": "code",
   "execution_count": null,
   "metadata": {},
   "outputs": [],
   "source": [
    "# Transformação das listas em dataframes\n",
    "characters_dataset = pd.DataFrame(relationships)\n",
    "characters_unique_dataset = pd.DataFrame(characters_unique)\n",
    "\n",
    "# Processamento dos arquivos .csv\n",
    "characters_dataset.to_csv(FILE_PATH + '/data/raw/characters_dataset.csv', index=False)\n",
    "characters_unique_dataset.to_csv(FILE_PATH + '/data/raw/characters_unique_dataset.csv', index=False)"
   ]
  }
 ],
 "metadata": {
  "kernelspec": {
   "display_name": "Python 3",
   "language": "python",
   "name": "python3"
  },
  "language_info": {
   "codemirror_mode": {
    "name": "ipython",
    "version": 3
   },
   "file_extension": ".py",
   "mimetype": "text/x-python",
   "name": "python",
   "nbconvert_exporter": "python",
   "pygments_lexer": "ipython3",
   "version": "3.7.3"
  }
 },
 "nbformat": 4,
 "nbformat_minor": 2
}
