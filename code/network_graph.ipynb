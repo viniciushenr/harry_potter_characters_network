{
 "cells": [
  {
   "cell_type": "code",
   "execution_count": null,
   "metadata": {},
   "outputs": [],
   "source": [
    "import os\n",
    "import re\n",
    "\n",
    "import pandas as pd\n",
    "import networkx as nx\n",
    "from pyvis.network import Network"
   ]
  },
  {
   "cell_type": "code",
   "execution_count": null,
   "metadata": {},
   "outputs": [],
   "source": [
    "FILE_PATH = os.path.join(os.path.abspath('.'))\n",
    "DATA_DIR = os.path.join(FILE_PATH, 'data')"
   ]
  },
  {
   "cell_type": "code",
   "execution_count": null,
   "metadata": {},
   "outputs": [],
   "source": [
    "characters_dataset = pd.read_csv(os.path.join(DATA_DIR, 'characters_dataset.csv'))\n",
    "characters_unique = pd.read_csv(os.path.join(DATA_DIR, 'characters_unique_dataset.csv'))"
   ]
  },
  {
   "cell_type": "code",
   "execution_count": null,
   "metadata": {},
   "outputs": [],
   "source": [
    "#Limpeza do characters_dataset de valores terminando com []\n",
    "relative = []\n",
    "relationship = []\n",
    "\n",
    "#Limpeza para a columa relative\n",
    "for i in characters_dataset['relative'].tolist():\n",
    "    \n",
    "    if i.find('[') != -1:\n",
    "        relative.append(i[:i.find('[')])\n",
    "    else: \n",
    "        relative.append(i)\n",
    "\n",
    "#Limpeza para a columa relationship\n",
    "for y in characters_dataset['relationship'].tolist():\n",
    "    \n",
    "    if y.find('[') != -1:\n",
    "        relationship.append(y[:y.find('[')])\n",
    "    else: \n",
    "        relationship.append(y)\n",
    "        \n",
    "characters_dataset['relative'] = relative\n",
    "characters_dataset['relationship'] = relationship"
   ]
  },
  {
   "cell_type": "code",
   "execution_count": null,
   "metadata": {},
   "outputs": [],
   "source": [
    "\"\"\"\n",
    "Remoção de linhas do dataset cujos characters (personagens) não \n",
    "são os principais e não há imagens (characters_unique['characters_unique_url']) armazenados\n",
    "\"\"\"\n",
    "list_characters_mains = characters_dataset['character'].unique().tolist()\n",
    "characters_dataset_modified = characters_dataset.copy()\n",
    "index = 0\n",
    "for i in characters_dataset['relative']:\n",
    "    if i not in list_characters_mains:\n",
    "        characters_dataset_modified.drop(index, inplace=True)\n",
    "    index +=1\n",
    "characters_dataset_modified = characters_dataset_modified.reset_index()"
   ]
  },
  {
   "cell_type": "code",
   "execution_count": null,
   "metadata": {},
   "outputs": [],
   "source": [
    "#Plotagens dos nodes e edges\n",
    "sources = characters_dataset_modified['character']\n",
    "targets = characters_dataset_modified['relative']\n",
    "weights = characters_dataset_modified['relationship']\n",
    "\n",
    "edge_data = zip(sources, targets, weights)\n",
    "graph = Network(height=\"750px\", width=\"100%\", bgcolor=\"#222222\", font_color=\"white\")\n",
    "\n",
    "# permissão de manipulação interativa com o grafo criado\n",
    "graph.barnes_hut()\n",
    "for e in edge_data:\n",
    "    src = e[0]\n",
    "    dst = e[1]\n",
    "    w = e[2]\n",
    "    \n",
    "    graph.add_node(src, src, title=src, image=src, shape='circularImage')\n",
    "    graph.add_node(dst, dst, title=dst, image=src, shape='circularImage')\n",
    "    graph.add_edge(src, dst, value=w)\n",
    "\n",
    "neighbor_map = graph.get_adj_list()\n",
    "\n",
    "# adicão de novas características (relatives, image)\n",
    "i = 0\n",
    "for node in graph.nodes:\n",
    "    node[\"title\"] += \" Relatives:<br>\" + \"<br>\".join(neighbor_map[node[\"id\"]])\n",
    "    node[\"value\"] = len(neighbor_map[node[\"id\"]])\n",
    "    \n",
    "    for j in characters_unique.index:\n",
    "        if node[\"id\"] == characters_unique['character'][j]:\n",
    "            node[\"image\"] = characters_unique['characters_unique_url'][j]\n",
    "    i+=1\n",
    "    \n",
    "graph.show(\"harryPotterCharacterNetwork.html\")"
   ]
  }
 ],
 "metadata": {
  "kernelspec": {
   "display_name": "Python 3",
   "language": "python",
   "name": "python3"
  },
  "language_info": {
   "codemirror_mode": {
    "name": "ipython",
    "version": 3
   },
   "file_extension": ".py",
   "mimetype": "text/x-python",
   "name": "python",
   "nbconvert_exporter": "python",
   "pygments_lexer": "ipython3",
   "version": "3.7.3"
  }
 },
 "nbformat": 4,
 "nbformat_minor": 2
}
